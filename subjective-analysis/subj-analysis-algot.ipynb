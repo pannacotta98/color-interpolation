{
 "cells": [
  {
   "cell_type": "markdown",
   "metadata": {},
   "source": [
    "# Testar lite analys"
   ]
  },
  {
   "cell_type": "code",
   "execution_count": 1,
   "metadata": {},
   "outputs": [
    {
     "data": {
      "text/plain": [
       "['snail', 'smolking', 'mushroom', 'interpsmolking', 'bus', 'stonewall']"
      ]
     },
     "execution_count": 1,
     "metadata": {},
     "output_type": "execute_result"
    }
   ],
   "source": [
    "import pandas as pd\n",
    "from io import StringIO\n",
    "import matplotlib.pyplot as plt\n",
    "\n",
    "with open(\"results (15).csv\") as f:\n",
    "  csv_string = f.read()\n",
    "\n",
    "# Split the two tables\n",
    "table1_str = csv_string[:csv_string.find(\"imageA\")]\n",
    "table2_str = csv_string[csv_string.find(\"imageA\"):]\n",
    "\n",
    "table1 = pd.read_table(StringIO(table1_str), sep=\",\")\n",
    "table2 = pd.read_table(StringIO(table2_str), sep=\",\")\n",
    "\n",
    "# Strip folder number in file names\n",
    "table1 = table1.rename(lambda s: s.split(\"\\\\\")[-1], axis=\"columns\")\n",
    "for col_name in ['imageA', 'imageB', 'chosenImage']:\n",
    "    table2[col_name] = table2[col_name].map(lambda s: s.split(\"\\\\\")[-1])\n",
    "    \n",
    "image_sets = list(set(name.split(\"_\")[0] for name in table1.columns[6:]))\n",
    "image_sets"
   ]
  },
  {
   "cell_type": "code",
   "execution_count": 2,
   "metadata": {},
   "outputs": [],
   "source": [
    "# run to interact with figures\n",
    "#%matplotlib notebook"
   ]
  },
  {
   "cell_type": "code",
   "execution_count": 3,
   "metadata": {},
   "outputs": [
    {
     "data": {
      "text/html": [
       "<div>\n",
       "<style scoped>\n",
       "    .dataframe tbody tr th:only-of-type {\n",
       "        vertical-align: middle;\n",
       "    }\n",
       "\n",
       "    .dataframe tbody tr th {\n",
       "        vertical-align: top;\n",
       "    }\n",
       "\n",
       "    .dataframe thead th {\n",
       "        text-align: right;\n",
       "    }\n",
       "</style>\n",
       "<table border=\"1\" class=\"dataframe\">\n",
       "  <thead>\n",
       "    <tr style=\"text-align: right;\">\n",
       "      <th></th>\n",
       "      <th>time</th>\n",
       "      <th>age</th>\n",
       "      <th>gender</th>\n",
       "      <th>imageExperience</th>\n",
       "      <th>bus_bicubic.png</th>\n",
       "      <th>bus_bilinear.png</th>\n",
       "      <th>bus_lanczos3.png</th>\n",
       "      <th>bus_ogniewski.png</th>\n",
       "      <th>interpsmolking_bicubic.png</th>\n",
       "      <th>interpsmolking_bilinear.png</th>\n",
       "      <th>...</th>\n",
       "      <th>smolking_lab.png</th>\n",
       "      <th>smolking_linrgb.png</th>\n",
       "      <th>smolking_srgb.png</th>\n",
       "      <th>snail_lab.png</th>\n",
       "      <th>snail_linrgb.png</th>\n",
       "      <th>snail_srgb.png</th>\n",
       "      <th>stonewall_bicubic.png</th>\n",
       "      <th>stonewall_bilinear.png</th>\n",
       "      <th>stonewall_lanczos3.png</th>\n",
       "      <th>stonewall_ogniewski.png</th>\n",
       "    </tr>\n",
       "  </thead>\n",
       "  <tbody>\n",
       "    <tr>\n",
       "      <th>0</th>\n",
       "      <td>1432.307</td>\n",
       "      <td>1</td>\n",
       "      <td>male</td>\n",
       "      <td>professional</td>\n",
       "      <td>3</td>\n",
       "      <td>1</td>\n",
       "      <td>0</td>\n",
       "      <td>2</td>\n",
       "      <td>3</td>\n",
       "      <td>1</td>\n",
       "      <td>...</td>\n",
       "      <td>1</td>\n",
       "      <td>0</td>\n",
       "      <td>2</td>\n",
       "      <td>0</td>\n",
       "      <td>1</td>\n",
       "      <td>2</td>\n",
       "      <td>1</td>\n",
       "      <td>3</td>\n",
       "      <td>2</td>\n",
       "      <td>0</td>\n",
       "    </tr>\n",
       "    <tr>\n",
       "      <th>1</th>\n",
       "      <td>330.802</td>\n",
       "      <td>47</td>\n",
       "      <td>male</td>\n",
       "      <td>professional</td>\n",
       "      <td>1</td>\n",
       "      <td>3</td>\n",
       "      <td>0</td>\n",
       "      <td>2</td>\n",
       "      <td>1</td>\n",
       "      <td>2</td>\n",
       "      <td>...</td>\n",
       "      <td>1</td>\n",
       "      <td>0</td>\n",
       "      <td>2</td>\n",
       "      <td>2</td>\n",
       "      <td>1</td>\n",
       "      <td>0</td>\n",
       "      <td>2</td>\n",
       "      <td>0</td>\n",
       "      <td>1</td>\n",
       "      <td>3</td>\n",
       "    </tr>\n",
       "    <tr>\n",
       "      <th>2</th>\n",
       "      <td>168.833</td>\n",
       "      <td>23</td>\n",
       "      <td>male</td>\n",
       "      <td>education</td>\n",
       "      <td>2</td>\n",
       "      <td>1</td>\n",
       "      <td>0</td>\n",
       "      <td>3</td>\n",
       "      <td>1</td>\n",
       "      <td>2</td>\n",
       "      <td>...</td>\n",
       "      <td>0</td>\n",
       "      <td>2</td>\n",
       "      <td>1</td>\n",
       "      <td>0</td>\n",
       "      <td>2</td>\n",
       "      <td>1</td>\n",
       "      <td>2</td>\n",
       "      <td>0</td>\n",
       "      <td>1</td>\n",
       "      <td>3</td>\n",
       "    </tr>\n",
       "    <tr>\n",
       "      <th>3</th>\n",
       "      <td>19.183</td>\n",
       "      <td>1</td>\n",
       "      <td>other</td>\n",
       "      <td>none</td>\n",
       "      <td>3</td>\n",
       "      <td>2</td>\n",
       "      <td>0</td>\n",
       "      <td>1</td>\n",
       "      <td>0</td>\n",
       "      <td>2</td>\n",
       "      <td>...</td>\n",
       "      <td>3</td>\n",
       "      <td>0</td>\n",
       "      <td>2</td>\n",
       "      <td>3</td>\n",
       "      <td>0</td>\n",
       "      <td>1</td>\n",
       "      <td>0</td>\n",
       "      <td>3</td>\n",
       "      <td>2</td>\n",
       "      <td>1</td>\n",
       "    </tr>\n",
       "    <tr>\n",
       "      <th>4</th>\n",
       "      <td>478.702</td>\n",
       "      <td>56</td>\n",
       "      <td>male</td>\n",
       "      <td>professional</td>\n",
       "      <td>2</td>\n",
       "      <td>1</td>\n",
       "      <td>0</td>\n",
       "      <td>3</td>\n",
       "      <td>3</td>\n",
       "      <td>1</td>\n",
       "      <td>...</td>\n",
       "      <td>1</td>\n",
       "      <td>0</td>\n",
       "      <td>2</td>\n",
       "      <td>0</td>\n",
       "      <td>1</td>\n",
       "      <td>2</td>\n",
       "      <td>3</td>\n",
       "      <td>0</td>\n",
       "      <td>1</td>\n",
       "      <td>2</td>\n",
       "    </tr>\n",
       "  </tbody>\n",
       "</table>\n",
       "<p>5 rows × 26 columns</p>\n",
       "</div>"
      ],
      "text/plain": [
       "       time  age gender imageExperience  bus_bicubic.png  bus_bilinear.png  \\\n",
       "0  1432.307    1   male    professional                3                 1   \n",
       "1   330.802   47   male    professional                1                 3   \n",
       "2   168.833   23   male       education                2                 1   \n",
       "3    19.183    1  other            none                3                 2   \n",
       "4   478.702   56   male    professional                2                 1   \n",
       "\n",
       "   bus_lanczos3.png  bus_ogniewski.png  interpsmolking_bicubic.png  \\\n",
       "0                 0                  2                           3   \n",
       "1                 0                  2                           1   \n",
       "2                 0                  3                           1   \n",
       "3                 0                  1                           0   \n",
       "4                 0                  3                           3   \n",
       "\n",
       "   interpsmolking_bilinear.png  ...  smolking_lab.png  smolking_linrgb.png  \\\n",
       "0                            1  ...                 1                    0   \n",
       "1                            2  ...                 1                    0   \n",
       "2                            2  ...                 0                    2   \n",
       "3                            2  ...                 3                    0   \n",
       "4                            1  ...                 1                    0   \n",
       "\n",
       "   smolking_srgb.png  snail_lab.png  snail_linrgb.png  snail_srgb.png  \\\n",
       "0                  2              0                 1               2   \n",
       "1                  2              2                 1               0   \n",
       "2                  1              0                 2               1   \n",
       "3                  2              3                 0               1   \n",
       "4                  2              0                 1               2   \n",
       "\n",
       "   stonewall_bicubic.png  stonewall_bilinear.png  stonewall_lanczos3.png  \\\n",
       "0                      1                       3                       2   \n",
       "1                      2                       0                       1   \n",
       "2                      2                       0                       1   \n",
       "3                      0                       3                       2   \n",
       "4                      3                       0                       1   \n",
       "\n",
       "   stonewall_ogniewski.png  \n",
       "0                        0  \n",
       "1                        3  \n",
       "2                        3  \n",
       "3                        1  \n",
       "4                        2  \n",
       "\n",
       "[5 rows x 26 columns]"
      ]
     },
     "execution_count": 3,
     "metadata": {},
     "output_type": "execute_result"
    }
   ],
   "source": [
    "table1.iloc[:, 2:]"
   ]
  },
  {
   "cell_type": "code",
   "execution_count": 4,
   "metadata": {},
   "outputs": [
    {
     "data": {
      "text/html": [
       "<div>\n",
       "<style scoped>\n",
       "    .dataframe tbody tr th:only-of-type {\n",
       "        vertical-align: middle;\n",
       "    }\n",
       "\n",
       "    .dataframe tbody tr th {\n",
       "        vertical-align: top;\n",
       "    }\n",
       "\n",
       "    .dataframe thead th {\n",
       "        text-align: right;\n",
       "    }\n",
       "</style>\n",
       "<table border=\"1\" class=\"dataframe\">\n",
       "  <thead>\n",
       "    <tr style=\"text-align: right;\">\n",
       "      <th></th>\n",
       "      <th>imageA</th>\n",
       "      <th>imageB</th>\n",
       "      <th>chosenImage</th>\n",
       "      <th>time</th>\n",
       "      <th>participantId</th>\n",
       "      <th>isRepeat</th>\n",
       "    </tr>\n",
       "  </thead>\n",
       "  <tbody>\n",
       "    <tr>\n",
       "      <th>0</th>\n",
       "      <td>bus_bicubic.png</td>\n",
       "      <td>bus_bilinear.png</td>\n",
       "      <td>bus_bicubic.png</td>\n",
       "      <td>53.354</td>\n",
       "      <td>312a7c52-7a84-44a4-9472-fc147fb0d211</td>\n",
       "      <td>0</td>\n",
       "    </tr>\n",
       "    <tr>\n",
       "      <th>1</th>\n",
       "      <td>bus_bicubic.png</td>\n",
       "      <td>bus_ogniewski.png</td>\n",
       "      <td>bus_bicubic.png</td>\n",
       "      <td>25.603</td>\n",
       "      <td>312a7c52-7a84-44a4-9472-fc147fb0d211</td>\n",
       "      <td>0</td>\n",
       "    </tr>\n",
       "    <tr>\n",
       "      <th>2</th>\n",
       "      <td>bus_ogniewski.png</td>\n",
       "      <td>bus_bilinear.png</td>\n",
       "      <td>bus_ogniewski.png</td>\n",
       "      <td>3.338</td>\n",
       "      <td>312a7c52-7a84-44a4-9472-fc147fb0d211</td>\n",
       "      <td>0</td>\n",
       "    </tr>\n",
       "    <tr>\n",
       "      <th>3</th>\n",
       "      <td>bus_bilinear.png</td>\n",
       "      <td>bus_ogniewski.png</td>\n",
       "      <td>bus_bilinear.png</td>\n",
       "      <td>8.419</td>\n",
       "      <td>312a7c52-7a84-44a4-9472-fc147fb0d211</td>\n",
       "      <td>1</td>\n",
       "    </tr>\n",
       "    <tr>\n",
       "      <th>4</th>\n",
       "      <td>bus_ogniewski.png</td>\n",
       "      <td>bus_lanczos3.png</td>\n",
       "      <td>bus_ogniewski.png</td>\n",
       "      <td>3.138</td>\n",
       "      <td>312a7c52-7a84-44a4-9472-fc147fb0d211</td>\n",
       "      <td>0</td>\n",
       "    </tr>\n",
       "    <tr>\n",
       "      <th>...</th>\n",
       "      <td>...</td>\n",
       "      <td>...</td>\n",
       "      <td>...</td>\n",
       "      <td>...</td>\n",
       "      <td>...</td>\n",
       "      <td>...</td>\n",
       "    </tr>\n",
       "    <tr>\n",
       "      <th>142</th>\n",
       "      <td>stonewall_bicubic.png</td>\n",
       "      <td>stonewall_bilinear.png</td>\n",
       "      <td>stonewall_bicubic.png</td>\n",
       "      <td>7.109</td>\n",
       "      <td>bd3a8d7f-7bfc-441f-b0d7-709b0e33c368</td>\n",
       "      <td>0</td>\n",
       "    </tr>\n",
       "    <tr>\n",
       "      <th>143</th>\n",
       "      <td>stonewall_bilinear.png</td>\n",
       "      <td>stonewall_bicubic.png</td>\n",
       "      <td>stonewall_bilinear.png</td>\n",
       "      <td>6.421</td>\n",
       "      <td>bd3a8d7f-7bfc-441f-b0d7-709b0e33c368</td>\n",
       "      <td>1</td>\n",
       "    </tr>\n",
       "    <tr>\n",
       "      <th>144</th>\n",
       "      <td>stonewall_bilinear.png</td>\n",
       "      <td>stonewall_ogniewski.png</td>\n",
       "      <td>stonewall_ogniewski.png</td>\n",
       "      <td>26.716</td>\n",
       "      <td>bd3a8d7f-7bfc-441f-b0d7-709b0e33c368</td>\n",
       "      <td>0</td>\n",
       "    </tr>\n",
       "    <tr>\n",
       "      <th>145</th>\n",
       "      <td>stonewall_lanczos3.png</td>\n",
       "      <td>stonewall_ogniewski.png</td>\n",
       "      <td>stonewall_ogniewski.png</td>\n",
       "      <td>8.476</td>\n",
       "      <td>bd3a8d7f-7bfc-441f-b0d7-709b0e33c368</td>\n",
       "      <td>0</td>\n",
       "    </tr>\n",
       "    <tr>\n",
       "      <th>146</th>\n",
       "      <td>stonewall_bilinear.png</td>\n",
       "      <td>stonewall_lanczos3.png</td>\n",
       "      <td>stonewall_lanczos3.png</td>\n",
       "      <td>3.834</td>\n",
       "      <td>bd3a8d7f-7bfc-441f-b0d7-709b0e33c368</td>\n",
       "      <td>0</td>\n",
       "    </tr>\n",
       "  </tbody>\n",
       "</table>\n",
       "<p>147 rows × 6 columns</p>\n",
       "</div>"
      ],
      "text/plain": [
       "                     imageA                   imageB              chosenImage  \\\n",
       "0           bus_bicubic.png         bus_bilinear.png          bus_bicubic.png   \n",
       "1           bus_bicubic.png        bus_ogniewski.png          bus_bicubic.png   \n",
       "2         bus_ogniewski.png         bus_bilinear.png        bus_ogniewski.png   \n",
       "3          bus_bilinear.png        bus_ogniewski.png         bus_bilinear.png   \n",
       "4         bus_ogniewski.png         bus_lanczos3.png        bus_ogniewski.png   \n",
       "..                      ...                      ...                      ...   \n",
       "142   stonewall_bicubic.png   stonewall_bilinear.png    stonewall_bicubic.png   \n",
       "143  stonewall_bilinear.png    stonewall_bicubic.png   stonewall_bilinear.png   \n",
       "144  stonewall_bilinear.png  stonewall_ogniewski.png  stonewall_ogniewski.png   \n",
       "145  stonewall_lanczos3.png  stonewall_ogniewski.png  stonewall_ogniewski.png   \n",
       "146  stonewall_bilinear.png   stonewall_lanczos3.png   stonewall_lanczos3.png   \n",
       "\n",
       "       time                         participantId  isRepeat  \n",
       "0    53.354  312a7c52-7a84-44a4-9472-fc147fb0d211         0  \n",
       "1    25.603  312a7c52-7a84-44a4-9472-fc147fb0d211         0  \n",
       "2     3.338  312a7c52-7a84-44a4-9472-fc147fb0d211         0  \n",
       "3     8.419  312a7c52-7a84-44a4-9472-fc147fb0d211         1  \n",
       "4     3.138  312a7c52-7a84-44a4-9472-fc147fb0d211         0  \n",
       "..      ...                                   ...       ...  \n",
       "142   7.109  bd3a8d7f-7bfc-441f-b0d7-709b0e33c368         0  \n",
       "143   6.421  bd3a8d7f-7bfc-441f-b0d7-709b0e33c368         1  \n",
       "144  26.716  bd3a8d7f-7bfc-441f-b0d7-709b0e33c368         0  \n",
       "145   8.476  bd3a8d7f-7bfc-441f-b0d7-709b0e33c368         0  \n",
       "146   3.834  bd3a8d7f-7bfc-441f-b0d7-709b0e33c368         0  \n",
       "\n",
       "[147 rows x 6 columns]"
      ]
     },
     "execution_count": 4,
     "metadata": {},
     "output_type": "execute_result"
    }
   ],
   "source": [
    "table2"
   ]
  },
  {
   "cell_type": "markdown",
   "metadata": {},
   "source": [
    "## Filter data [TODO]"
   ]
  },
  {
   "cell_type": "code",
   "execution_count": 5,
   "metadata": {},
   "outputs": [],
   "source": [
    "table1 = table1.query(\"age != 1\")\n",
    "\n",
    "#table1 = table1.query(\"age > 25\")\n",
    "\n",
    "# TODO Filter in table2 as well\n",
    "#table1"
   ]
  },
  {
   "cell_type": "code",
   "execution_count": 6,
   "metadata": {},
   "outputs": [
    {
     "data": {
      "text/plain": [
       "<AxesSubplot:>"
      ]
     },
     "execution_count": 6,
     "metadata": {},
     "output_type": "execute_result"
    },
    {
     "data": {
      "image/png": "[encoded data removed]",
      "text/plain": [
       "<Figure size 432x288 with 1 Axes>"
      ]
     },
     "metadata": {
      "needs_background": "light"
     },
     "output_type": "display_data"
    }
   ],
   "source": [
    "table1.iloc[:, 6:].mean().plot.barh()"
   ]
  },
  {
   "cell_type": "markdown",
   "metadata": {},
   "source": [
    "## Rankings for each image set"
   ]
  },
  {
   "cell_type": "code",
   "execution_count": 7,
   "metadata": {},
   "outputs": [
    {
     "data": {
      "text/plain": [
       "<Figure size 432x288 with 0 Axes>"
      ]
     },
     "metadata": {},
     "output_type": "display_data"
    },
    {
     "data": {
      "image/png": "[encoded data removed]",
      "text/plain": [
       "<Figure size 432x288 with 1 Axes>"
      ]
     },
     "metadata": {
      "needs_background": "light"
     },
     "output_type": "display_data"
    },
    {
     "data": {
      "text/plain": [
       "<Figure size 432x288 with 0 Axes>"
      ]
     },
     "metadata": {},
     "output_type": "display_data"
    },
    {
     "data": {
      "image/png": "[encoded data removed]",
      "text/plain": [
       "<Figure size 432x288 with 1 Axes>"
      ]
     },
     "metadata": {
      "needs_background": "light"
     },
     "output_type": "display_data"
    },
    {
     "data": {
      "text/plain": [
       "<Figure size 432x288 with 0 Axes>"
      ]
     },
     "metadata": {},
     "output_type": "display_data"
    },
    {
     "data": {
      "image/png": "[encoded data removed]",
      "text/plain": [
       "<Figure size 432x288 with 1 Axes>"
      ]
     },
     "metadata": {
      "needs_background": "light"
     },
     "output_type": "display_data"
    },
    {
     "data": {
      "text/plain": [
       "<Figure size 432x288 with 0 Axes>"
      ]
     },
     "metadata": {},
     "output_type": "display_data"
    },
    {
     "data": {
      "image/png": "[encoded data removed]",
      "text/plain": [
       "<Figure size 432x288 with 1 Axes>"
      ]
     },
     "metadata": {
      "needs_background": "light"
     },
     "output_type": "display_data"
    },
    {
     "data": {
      "text/plain": [
       "<Figure size 432x288 with 0 Axes>"
      ]
     },
     "metadata": {},
     "output_type": "display_data"
    },
    {
     "data": {
      "image/png": "[encoded data removed]",
      "text/plain": [
       "<Figure size 432x288 with 1 Axes>"
      ]
     },
     "metadata": {
      "needs_background": "light"
     },
     "output_type": "display_data"
    },
    {
     "data": {
      "text/plain": [
       "<Figure size 432x288 with 0 Axes>"
      ]
     },
     "metadata": {},
     "output_type": "display_data"
    },
    {
     "data": {
      "image/png": "[encoded data removed]",
      "text/plain": [
       "<Figure size 432x288 with 1 Axes>"
      ]
     },
     "metadata": {
      "needs_background": "light"
     },
     "output_type": "display_data"
    }
   ],
   "source": [
    "for selected_set in image_sets:\n",
    "    plt.figure()\n",
    "    matching_cols = [col for col in table1 if col.startswith(selected_set)]\n",
    "    #table1[matching_cols].mean().plot.barh()\n",
    "    #table1[matching_cols].plot.box() # Probably useful when we have some participants\n",
    "    \n",
    "    table1[matching_cols].transpose().plot.barh()\n",
    "    \n",
    "    \n",
    "    "
   ]
  },
  {
   "cell_type": "markdown",
   "metadata": {},
   "source": [
    "## Idk"
   ]
  },
  {
   "cell_type": "code",
   "execution_count": 8,
   "metadata": {},
   "outputs": [
    {
     "data": {
      "text/plain": [
       "<AxesSubplot:>"
      ]
     },
     "execution_count": 8,
     "metadata": {},
     "output_type": "execute_result"
    },
    {
     "data": {
      "image/png": "[encoded data removed]",
      "text/plain": [
       "<Figure size 432x288 with 1 Axes>"
      ]
     },
     "metadata": {
      "needs_background": "light"
     },
     "output_type": "display_data"
    }
   ],
   "source": [
    "table1['age'].hist()"
   ]
  },
  {
   "cell_type": "code",
   "execution_count": 9,
   "metadata": {},
   "outputs": [
    {
     "data": {
      "text/plain": [
       "<AxesSubplot:>"
      ]
     },
     "execution_count": 9,
     "metadata": {},
     "output_type": "execute_result"
    },
    {
     "data": {
      "image/png": "[encoded data removed]",
      "text/plain": [
       "<Figure size 432x288 with 1 Axes>"
      ]
     },
     "metadata": {
      "needs_background": "light"
     },
     "output_type": "display_data"
    }
   ],
   "source": [
    "table2['time'].hist(bins=100)"
   ]
  }
 ],
 "metadata": {
  "interpreter": {
   "hash": "2be5faf79681da6f2a61fdfdd5405d65d042280f7fba6178067603e3a2925119"
  },
  "kernelspec": {
   "display_name": "Python 3 (ipykernel)",
   "language": "python",
   "name": "python3"
  },
  "language_info": {
   "codemirror_mode": {
    "name": "ipython",
    "version": 3
   },
   "file_extension": ".py",
   "mimetype": "text/x-python",
   "name": "python",
   "nbconvert_exporter": "python",
   "pygments_lexer": "ipython3",
   "version": "3.9.7"
  }
 },
 "nbformat": 4,
 "nbformat_minor": 2
}
